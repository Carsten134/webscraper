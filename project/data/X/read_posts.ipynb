{
 "cells": [
  {
   "cell_type": "code",
   "execution_count": 1,
   "metadata": {},
   "outputs": [
    {
     "data": {
      "text/html": [
       "<div>\n",
       "<style scoped>\n",
       "    .dataframe tbody tr th:only-of-type {\n",
       "        vertical-align: middle;\n",
       "    }\n",
       "\n",
       "    .dataframe tbody tr th {\n",
       "        vertical-align: top;\n",
       "    }\n",
       "\n",
       "    .dataframe thead th {\n",
       "        text-align: right;\n",
       "    }\n",
       "</style>\n",
       "<table border=\"1\" class=\"dataframe\">\n",
       "  <thead>\n",
       "    <tr style=\"text-align: right;\">\n",
       "      <th></th>\n",
       "      <th>nav_index</th>\n",
       "      <th>item_id</th>\n",
       "      <th>timestamp_collected</th>\n",
       "      <th>source_platform</th>\n",
       "      <th>source_platform_url</th>\n",
       "      <th>source_url</th>\n",
       "      <th>user_agent</th>\n",
       "      <th>data</th>\n",
       "      <th>id</th>\n",
       "    </tr>\n",
       "  </thead>\n",
       "  <tbody>\n",
       "    <tr>\n",
       "      <th>0</th>\n",
       "      <td>1:1:NaN</td>\n",
       "      <td>1903858032666157568</td>\n",
       "      <td>2025-03-24 16:08:14.679</td>\n",
       "      <td>twitter.com</td>\n",
       "      <td>https://x.com/search?q=klimawende&amp;src=typed_query</td>\n",
       "      <td>https://x.com/i/api/graphql/MA6tGkMvoK-PQdjiy4...</td>\n",
       "      <td>Mozilla/5.0 (Windows NT 10.0; Win64; x64; rv:1...</td>\n",
       "      <td>{'__typename': 'Tweet', 'rest_id': '1903858032...</td>\n",
       "      <td>1</td>\n",
       "    </tr>\n",
       "    <tr>\n",
       "      <th>1</th>\n",
       "      <td>1:1:NaN</td>\n",
       "      <td>1903861923038302720</td>\n",
       "      <td>2025-03-24 16:08:14.679</td>\n",
       "      <td>twitter.com</td>\n",
       "      <td>https://x.com/search?q=klimawende&amp;src=typed_query</td>\n",
       "      <td>https://x.com/i/api/graphql/MA6tGkMvoK-PQdjiy4...</td>\n",
       "      <td>Mozilla/5.0 (Windows NT 10.0; Win64; x64; rv:1...</td>\n",
       "      <td>{'__typename': 'Tweet', 'rest_id': '1903861923...</td>\n",
       "      <td>2</td>\n",
       "    </tr>\n",
       "    <tr>\n",
       "      <th>2</th>\n",
       "      <td>1:1:NaN</td>\n",
       "      <td>1903906397277864192</td>\n",
       "      <td>2025-03-24 16:08:14.681</td>\n",
       "      <td>twitter.com</td>\n",
       "      <td>https://x.com/search?q=klimawende&amp;src=typed_query</td>\n",
       "      <td>https://x.com/i/api/graphql/MA6tGkMvoK-PQdjiy4...</td>\n",
       "      <td>Mozilla/5.0 (Windows NT 10.0; Win64; x64; rv:1...</td>\n",
       "      <td>{'__typename': 'Tweet', 'rest_id': '1903906397...</td>\n",
       "      <td>3</td>\n",
       "    </tr>\n",
       "    <tr>\n",
       "      <th>3</th>\n",
       "      <td>1:1:NaN</td>\n",
       "      <td>1904090170380484608</td>\n",
       "      <td>2025-03-24 16:08:14.681</td>\n",
       "      <td>twitter.com</td>\n",
       "      <td>https://x.com/search?q=klimawende&amp;src=typed_query</td>\n",
       "      <td>https://x.com/i/api/graphql/MA6tGkMvoK-PQdjiy4...</td>\n",
       "      <td>Mozilla/5.0 (Windows NT 10.0; Win64; x64; rv:1...</td>\n",
       "      <td>{'__typename': 'Tweet', 'rest_id': '1904090170...</td>\n",
       "      <td>4</td>\n",
       "    </tr>\n",
       "    <tr>\n",
       "      <th>4</th>\n",
       "      <td>1:1:NaN</td>\n",
       "      <td>1904105608782958848</td>\n",
       "      <td>2025-03-24 16:08:14.681</td>\n",
       "      <td>twitter.com</td>\n",
       "      <td>https://x.com/search?q=klimawende&amp;src=typed_query</td>\n",
       "      <td>https://x.com/i/api/graphql/MA6tGkMvoK-PQdjiy4...</td>\n",
       "      <td>Mozilla/5.0 (Windows NT 10.0; Win64; x64; rv:1...</td>\n",
       "      <td>{'__typename': 'Tweet', 'rest_id': '1904105608...</td>\n",
       "      <td>5</td>\n",
       "    </tr>\n",
       "  </tbody>\n",
       "</table>\n",
       "</div>"
      ],
      "text/plain": [
       "  nav_index              item_id     timestamp_collected source_platform  \\\n",
       "0   1:1:NaN  1903858032666157568 2025-03-24 16:08:14.679     twitter.com   \n",
       "1   1:1:NaN  1903861923038302720 2025-03-24 16:08:14.679     twitter.com   \n",
       "2   1:1:NaN  1903906397277864192 2025-03-24 16:08:14.681     twitter.com   \n",
       "3   1:1:NaN  1904090170380484608 2025-03-24 16:08:14.681     twitter.com   \n",
       "4   1:1:NaN  1904105608782958848 2025-03-24 16:08:14.681     twitter.com   \n",
       "\n",
       "                                 source_platform_url  \\\n",
       "0  https://x.com/search?q=klimawende&src=typed_query   \n",
       "1  https://x.com/search?q=klimawende&src=typed_query   \n",
       "2  https://x.com/search?q=klimawende&src=typed_query   \n",
       "3  https://x.com/search?q=klimawende&src=typed_query   \n",
       "4  https://x.com/search?q=klimawende&src=typed_query   \n",
       "\n",
       "                                          source_url  \\\n",
       "0  https://x.com/i/api/graphql/MA6tGkMvoK-PQdjiy4...   \n",
       "1  https://x.com/i/api/graphql/MA6tGkMvoK-PQdjiy4...   \n",
       "2  https://x.com/i/api/graphql/MA6tGkMvoK-PQdjiy4...   \n",
       "3  https://x.com/i/api/graphql/MA6tGkMvoK-PQdjiy4...   \n",
       "4  https://x.com/i/api/graphql/MA6tGkMvoK-PQdjiy4...   \n",
       "\n",
       "                                          user_agent  \\\n",
       "0  Mozilla/5.0 (Windows NT 10.0; Win64; x64; rv:1...   \n",
       "1  Mozilla/5.0 (Windows NT 10.0; Win64; x64; rv:1...   \n",
       "2  Mozilla/5.0 (Windows NT 10.0; Win64; x64; rv:1...   \n",
       "3  Mozilla/5.0 (Windows NT 10.0; Win64; x64; rv:1...   \n",
       "4  Mozilla/5.0 (Windows NT 10.0; Win64; x64; rv:1...   \n",
       "\n",
       "                                                data  id  \n",
       "0  {'__typename': 'Tweet', 'rest_id': '1903858032...   1  \n",
       "1  {'__typename': 'Tweet', 'rest_id': '1903861923...   2  \n",
       "2  {'__typename': 'Tweet', 'rest_id': '1903906397...   3  \n",
       "3  {'__typename': 'Tweet', 'rest_id': '1904090170...   4  \n",
       "4  {'__typename': 'Tweet', 'rest_id': '1904105608...   5  "
      ]
     },
     "execution_count": 1,
     "metadata": {},
     "output_type": "execute_result"
    }
   ],
   "source": [
    "import pandas as pd\n",
    "\n",
    "df = pd.read_json(\"X.ndjson\", lines=True)\n",
    "df.head()"
   ]
  },
  {
   "cell_type": "code",
   "execution_count": 30,
   "metadata": {},
   "outputs": [],
   "source": [
    "def retrieve_if_there(data, keys):\n",
    "  temp = data\n",
    "  for key in keys:\n",
    "    if key in temp:\n",
    "      temp = temp[key]\n",
    "    else:\n",
    "      return None\n",
    "  return temp"
   ]
  },
  {
   "cell_type": "code",
   "execution_count": 31,
   "metadata": {},
   "outputs": [],
   "source": [
    "retrival_dict = {\n",
    "  \"text\": [\"legacy\", \"full_text\"],\n",
    "  \"promoted\": [\"promoted\"],\n",
    "  \"created_at\": [\"legacy\", \"created_at\"],\n",
    "  \"views\": [\"views\", \"count\"]\n",
    "}\n",
    "\n",
    "for col in retrival_dict:\n",
    "  df[col] = df.apply(lambda row: retrieve_if_there(row[\"data\"], retrival_dict[col]), axis=1)"
   ]
  },
  {
   "cell_type": "code",
   "execution_count": 65,
   "metadata": {},
   "outputs": [
    {
     "name": "stdout",
     "output_type": "stream",
     "text": [
      "Heute starten wir offiziell als neuer Thinktank \"Zukunft KlimaSozial\" @ZKS_KlimaSozial mit der Veröffentlichung unseren 11 Thesen für eine #Klimasozialpolitik: \n",
      "\"Eine sozial gerechte und klimaneutrale Zukunft sichern\"\n",
      "https://t.co/eqiD21lo09\n",
      "1/n🧵 https://t.co/9mcKhwJ4mY\n"
     ]
    }
   ],
   "source": [
    "print(df.text[200])"
   ]
  }
 ],
 "metadata": {
  "kernelspec": {
   "display_name": "webscraper",
   "language": "python",
   "name": "python3"
  },
  "language_info": {
   "codemirror_mode": {
    "name": "ipython",
    "version": 3
   },
   "file_extension": ".py",
   "mimetype": "text/x-python",
   "name": "python",
   "nbconvert_exporter": "python",
   "pygments_lexer": "ipython3",
   "version": "3.13.2"
  }
 },
 "nbformat": 4,
 "nbformat_minor": 2
}
