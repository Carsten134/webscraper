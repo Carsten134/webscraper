{
 "cells": [
  {
   "cell_type": "code",
   "execution_count": 3,
   "metadata": {},
   "outputs": [
    {
     "data": {
      "text/plain": [
       "{'user': {'name': 'HZimmer203',\n",
       "  'mail': 'dmueller203@holio.day',\n",
       "  'password': 'gartenZaun123'},\n",
       " 'searchTerms': [['klima', 'wärme', 'energie', 'heiz'],\n",
       "  ['wende',\n",
       "   'gesetzt',\n",
       "   'politik',\n",
       "   'habeck',\n",
       "   'hammer',\n",
       "   'sozial',\n",
       "   'gerecht',\n",
       "   'fair',\n",
       "   'bezahlbar',\n",
       "   'elite',\n",
       "   'maßnahme',\n",
       "   'teuer',\n",
       "   'mieter',\n",
       "   'kosten',\n",
       "   'unbezahlbar',\n",
       "   'exorbitant',\n",
       "   'preis',\n",
       "   'eigenheim',\n",
       "   'haus']],\n",
       " 'scrollsPerSearch': 10,\n",
       " 'scrollsOffset': 500,\n",
       " 'secBetweenScrolls': 0.5}"
      ]
     },
     "execution_count": 3,
     "metadata": {},
     "output_type": "execute_result"
    }
   ],
   "source": [
    "import json\n",
    "from x import XScraper\n",
    "\n",
    "with open(\"./run-configs/x_run.json\") as run_config:\n",
    "  run_config = json.load(run_config)\n",
    "\n",
    "run_config"
   ]
  },
  {
   "cell_type": "code",
   "execution_count": null,
   "metadata": {},
   "outputs": [
    {
     "name": "stderr",
     "output_type": "stream",
     "text": [
      "d:\\Daten\\Data Science Master\\Diskurs Energiewende\\webscraper\\project\\scraper\\x.py:46: SyntaxWarning: invalid escape sequence '\\d'\n",
      "  options.set_preference(\"browser.download.dir\", f\"{os.getcwd()}\\data\\X\")\n"
     ]
    },
    {
     "ename": "TypeError",
     "evalue": "can only concatenate list (not \"str\") to list",
     "output_type": "error",
     "traceback": [
      "\u001b[31m---------------------------------------------------------------------------\u001b[39m",
      "\u001b[31mTypeError\u001b[39m                                 Traceback (most recent call last)",
      "\u001b[36mCell\u001b[39m\u001b[36m \u001b[39m\u001b[32mIn[4]\u001b[39m\u001b[32m, line 2\u001b[39m\n\u001b[32m      1\u001b[39m scraper = XScraper(run_config)\n\u001b[32m----> \u001b[39m\u001b[32m2\u001b[39m \u001b[43mscraper\u001b[49m\u001b[43m.\u001b[49m\u001b[43mrun\u001b[49m\u001b[43m(\u001b[49m\u001b[43m)\u001b[49m\n",
      "\u001b[36mFile \u001b[39m\u001b[32md:\\Daten\\Data Science Master\\Diskurs Energiewende\\webscraper\\project\\scraper\\x.py:67\u001b[39m, in \u001b[36mXScraper.run\u001b[39m\u001b[34m(self)\u001b[39m\n\u001b[32m     65\u001b[39m \u001b[38;5;28;01mfor\u001b[39;00m search_term \u001b[38;5;129;01min\u001b[39;00m \u001b[38;5;28mself\u001b[39m._resolve_search_terms(\u001b[38;5;28mself\u001b[39m.run_config[\u001b[33m\"\u001b[39m\u001b[33msearchTerms\u001b[39m\u001b[33m\"\u001b[39m]):\n\u001b[32m     66\u001b[39m     time.sleep(\u001b[32m1\u001b[39m)\n\u001b[32m---> \u001b[39m\u001b[32m67\u001b[39m     \u001b[38;5;28;43mself\u001b[39;49m\u001b[43m.\u001b[49m\u001b[43msearch\u001b[49m\u001b[43m(\u001b[49m\u001b[43msearch_term\u001b[49m\u001b[43m)\u001b[49m\n\u001b[32m     68\u001b[39m     \u001b[38;5;28mself\u001b[39m.scroll(\u001b[38;5;28mself\u001b[39m.run_config[\u001b[33m\"\u001b[39m\u001b[33mscrollsPerSearch\u001b[39m\u001b[33m\"\u001b[39m],\n\u001b[32m     69\u001b[39m                 \u001b[38;5;28mself\u001b[39m.run_config[\u001b[33m\"\u001b[39m\u001b[33mscrollsOffset\u001b[39m\u001b[33m\"\u001b[39m],\n\u001b[32m     70\u001b[39m                 \u001b[38;5;28mself\u001b[39m.run_config[\u001b[33m\"\u001b[39m\u001b[33msecBetweenScrolls\u001b[39m\u001b[33m\"\u001b[39m])\n\u001b[32m     72\u001b[39m \u001b[38;5;28mself\u001b[39m.download_posts()\n",
      "\u001b[36mFile \u001b[39m\u001b[32md:\\Daten\\Data Science Master\\Diskurs Energiewende\\webscraper\\project\\scraper\\autocorrect\\x.py:16\u001b[39m, in \u001b[36msearch_autocorrect.<locals>.wrapped_search\u001b[39m\u001b[34m(*args, **kwargs)\u001b[39m\n\u001b[32m     10\u001b[39m \u001b[38;5;129m@wraps\u001b[39m(search)\n\u001b[32m     11\u001b[39m \u001b[38;5;28;01mdef\u001b[39;00m\u001b[38;5;250m \u001b[39m\u001b[34mwrapped_search\u001b[39m(*args, **kwargs):\n\u001b[32m     12\u001b[39m   \u001b[38;5;66;03m# checking conditions\u001b[39;00m\n\u001b[32m     13\u001b[39m \n\u001b[32m     14\u001b[39m   \u001b[38;5;66;03m# fixing if necessary\u001b[39;00m\n\u001b[32m---> \u001b[39m\u001b[32m16\u001b[39m   \u001b[43msearch\u001b[49m\u001b[43m(\u001b[49m\u001b[43m*\u001b[49m\u001b[43margs\u001b[49m\u001b[43m,\u001b[49m\u001b[43m \u001b[49m\u001b[43m*\u001b[49m\u001b[43m*\u001b[49m\u001b[43mkwargs\u001b[49m\u001b[43m)\u001b[49m\n",
      "\u001b[36mFile \u001b[39m\u001b[32md:\\Daten\\Data Science Master\\Diskurs Energiewende\\webscraper\\project\\scraper\\x.py:94\u001b[39m, in \u001b[36mXScraper.search\u001b[39m\u001b[34m(self, text)\u001b[39m\n\u001b[32m     92\u001b[39m \u001b[38;5;66;03m# make sure the search field is empty\u001b[39;00m\n\u001b[32m     93\u001b[39m search.clear()\n\u001b[32m---> \u001b[39m\u001b[32m94\u001b[39m search.send_keys(\u001b[43mtext\u001b[49m\u001b[43m \u001b[49m\u001b[43m+\u001b[49m\u001b[43m \u001b[49m\u001b[43mKeys\u001b[49m\u001b[43m.\u001b[49m\u001b[43mENTER\u001b[49m)\n",
      "\u001b[31mTypeError\u001b[39m: can only concatenate list (not \"str\") to list"
     ]
    }
   ],
   "source": [
    "scraper = XScraper(run_config)\n",
    "scraper.run()"
   ]
  },
  {
   "cell_type": "code",
   "execution_count": 5,
   "metadata": {},
   "outputs": [
    {
     "ename": "AttributeError",
     "evalue": "'XScraper' object has no attribute '_resolve_search_terms'",
     "output_type": "error",
     "traceback": [
      "\u001b[31m---------------------------------------------------------------------------\u001b[39m",
      "\u001b[31mAttributeError\u001b[39m                            Traceback (most recent call last)",
      "\u001b[36mCell\u001b[39m\u001b[36m \u001b[39m\u001b[32mIn[5]\u001b[39m\u001b[32m, line 1\u001b[39m\n\u001b[32m----> \u001b[39m\u001b[32m1\u001b[39m \u001b[43mscraper\u001b[49m\u001b[43m.\u001b[49m\u001b[43m_resolve_search_terms\u001b[49m([\u001b[33m\"\u001b[39m\u001b[33mtest\u001b[39m\u001b[33m\"\u001b[39m])\n",
      "\u001b[31mAttributeError\u001b[39m: 'XScraper' object has no attribute '_resolve_search_terms'"
     ]
    }
   ],
   "source": [
    "scraper._resolve_search_terms([\"test\"])"
   ]
  }
 ],
 "metadata": {
  "kernelspec": {
   "display_name": "webscraper",
   "language": "python",
   "name": "python3"
  },
  "language_info": {
   "codemirror_mode": {
    "name": "ipython",
    "version": 3
   },
   "file_extension": ".py",
   "mimetype": "text/x-python",
   "name": "python",
   "nbconvert_exporter": "python",
   "pygments_lexer": "ipython3",
   "version": "3.13.2"
  }
 },
 "nbformat": 4,
 "nbformat_minor": 2
}
